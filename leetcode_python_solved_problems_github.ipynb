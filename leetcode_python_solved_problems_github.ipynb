{
 "cells": [
  {
   "cell_type": "markdown",
   "id": "5efbdb48",
   "metadata": {},
   "source": [
    "## 1. sum of 2 numbers add up to a target.return indices"
   ]
  },
  {
   "cell_type": "code",
   "execution_count": 37,
   "id": "1ee2e567",
   "metadata": {},
   "outputs": [],
   "source": [
    "l_nums=[1,2,11,6,7]"
   ]
  },
  {
   "cell_type": "code",
   "execution_count": 38,
   "id": "2b639158",
   "metadata": {},
   "outputs": [],
   "source": [
    "target=9"
   ]
  },
  {
   "cell_type": "code",
   "execution_count": 4,
   "id": "952158c8",
   "metadata": {},
   "outputs": [
    {
     "data": {
      "text/plain": [
       "[2, 7, 9, 11, 15]"
      ]
     },
     "execution_count": 4,
     "metadata": {},
     "output_type": "execute_result"
    }
   ],
   "source": [
    "sorted(l_nums)"
   ]
  },
  {
   "cell_type": "code",
   "execution_count": 45,
   "id": "5a4517c1",
   "metadata": {},
   "outputs": [],
   "source": [
    "def fun(l_nums):\n",
    "    for i in range(len(l_nums)-1):\n",
    "        for j in range(i+1,len(l_nums)):\n",
    "            if l_nums[i]+l_nums[j]==9:\n",
    "                return i,j\n",
    "                break\n",
    "        else:\n",
    "            continue\n",
    "        break\n",
    "    return"
   ]
  },
  {
   "cell_type": "code",
   "execution_count": 46,
   "id": "5ad55a08",
   "metadata": {},
   "outputs": [
    {
     "data": {
      "text/plain": [
       "(1, 4)"
      ]
     },
     "execution_count": 46,
     "metadata": {},
     "output_type": "execute_result"
    }
   ],
   "source": [
    "fun(l_nums)"
   ]
  },
  {
   "cell_type": "code",
   "execution_count": null,
   "id": "023df06e",
   "metadata": {},
   "outputs": [],
   "source": []
  },
  {
   "cell_type": "code",
   "execution_count": 24,
   "id": "126d20d5",
   "metadata": {},
   "outputs": [],
   "source": [
    "def fun(l_nums):\n",
    "    for i in range(len(l_nums)-1):\n",
    "        if l_nums[i]+l_nums[i+1]==9:\n",
    "            return i, i+1\n",
    "            break\n",
    "        else:\n",
    "            continue\n",
    "    return"
   ]
  },
  {
   "cell_type": "code",
   "execution_count": 23,
   "id": "c8a211f9",
   "metadata": {},
   "outputs": [
    {
     "data": {
      "text/plain": [
       "3"
      ]
     },
     "execution_count": 23,
     "metadata": {},
     "output_type": "execute_result"
    }
   ],
   "source": [
    "i"
   ]
  },
  {
   "cell_type": "code",
   "execution_count": 17,
   "id": "617e0688",
   "metadata": {},
   "outputs": [
    {
     "name": "stdout",
     "output_type": "stream",
     "text": [
      "0\n",
      "1\n",
      "2\n",
      "3\n",
      "4\n"
     ]
    },
    {
     "ename": "IndexError",
     "evalue": "list index out of range",
     "output_type": "error",
     "traceback": [
      "\u001b[1;31m---------------------------------------------------------------------------\u001b[0m",
      "\u001b[1;31mIndexError\u001b[0m                                Traceback (most recent call last)",
      "\u001b[1;32m<ipython-input-17-baea4333448b>\u001b[0m in \u001b[0;36m<module>\u001b[1;34m\u001b[0m\n\u001b[1;32m----> 1\u001b[1;33m \u001b[0mfun\u001b[0m\u001b[1;33m(\u001b[0m\u001b[0ml_nums\u001b[0m\u001b[1;33m)\u001b[0m\u001b[1;33m\u001b[0m\u001b[1;33m\u001b[0m\u001b[0m\n\u001b[0m",
      "\u001b[1;32m<ipython-input-16-da81c3523ca9>\u001b[0m in \u001b[0;36mfun\u001b[1;34m(l_nums)\u001b[0m\n\u001b[0;32m      2\u001b[0m     \u001b[1;32mfor\u001b[0m \u001b[0mi\u001b[0m \u001b[1;32min\u001b[0m \u001b[0mrange\u001b[0m\u001b[1;33m(\u001b[0m\u001b[0mlen\u001b[0m\u001b[1;33m(\u001b[0m\u001b[0ml_nums\u001b[0m\u001b[1;33m)\u001b[0m\u001b[1;33m)\u001b[0m\u001b[1;33m:\u001b[0m\u001b[1;33m\u001b[0m\u001b[1;33m\u001b[0m\u001b[0m\n\u001b[0;32m      3\u001b[0m         \u001b[0mprint\u001b[0m\u001b[1;33m(\u001b[0m\u001b[0mi\u001b[0m\u001b[1;33m)\u001b[0m\u001b[1;33m\u001b[0m\u001b[1;33m\u001b[0m\u001b[0m\n\u001b[1;32m----> 4\u001b[1;33m         \u001b[1;32mif\u001b[0m \u001b[0ml_nums\u001b[0m\u001b[1;33m[\u001b[0m\u001b[0mi\u001b[0m\u001b[1;33m]\u001b[0m\u001b[1;33m+\u001b[0m\u001b[0ml_nums\u001b[0m\u001b[1;33m[\u001b[0m\u001b[0mi\u001b[0m\u001b[1;33m+\u001b[0m\u001b[1;36m1\u001b[0m\u001b[1;33m]\u001b[0m\u001b[1;33m==\u001b[0m\u001b[1;36m9\u001b[0m\u001b[1;33m:\u001b[0m\u001b[1;33m\u001b[0m\u001b[1;33m\u001b[0m\u001b[0m\n\u001b[0m\u001b[0;32m      5\u001b[0m             \u001b[0mprint\u001b[0m\u001b[1;33m(\u001b[0m\u001b[0mi\u001b[0m\u001b[1;33m)\u001b[0m\u001b[1;33m\u001b[0m\u001b[1;33m\u001b[0m\u001b[0m\n\u001b[0;32m      6\u001b[0m             \u001b[1;32mbreak\u001b[0m\u001b[1;33m\u001b[0m\u001b[1;33m\u001b[0m\u001b[0m\n",
      "\u001b[1;31mIndexError\u001b[0m: list index out of range"
     ]
    }
   ],
   "source": [
    "fun(l_nums)"
   ]
  },
  {
   "cell_type": "markdown",
   "id": "9034893d",
   "metadata": {},
   "source": [
    "## 2. best time to buy & sell stock- max profit 1 trxn"
   ]
  },
  {
   "cell_type": "code",
   "execution_count": 51,
   "id": "8be9bebb",
   "metadata": {},
   "outputs": [],
   "source": [
    "a=[7,1,5,3,6,4,15]"
   ]
  },
  {
   "cell_type": "code",
   "execution_count": 52,
   "id": "9bd65738",
   "metadata": {},
   "outputs": [],
   "source": [
    "def maxprofit(a):\n",
    "    maxp=0\n",
    "    for i in range(len(a)-1):\n",
    "        for j in range(i+1,len(a)):\n",
    "            maxp=max(maxp,(a[j]-a[i]))\n",
    "    return maxp"
   ]
  },
  {
   "cell_type": "code",
   "execution_count": 53,
   "id": "08c13463",
   "metadata": {},
   "outputs": [
    {
     "data": {
      "text/plain": [
       "14"
      ]
     },
     "execution_count": 53,
     "metadata": {},
     "output_type": "execute_result"
    }
   ],
   "source": [
    "maxprofit(a)"
   ]
  },
  {
   "cell_type": "markdown",
   "id": "73b392ef",
   "metadata": {},
   "source": [
    "## 3. return true if any value appears atleast twice & false if every element is distinct"
   ]
  },
  {
   "cell_type": "code",
   "execution_count": 62,
   "id": "8e372aeb",
   "metadata": {},
   "outputs": [],
   "source": [
    "nums=[1,2,3]"
   ]
  },
  {
   "cell_type": "code",
   "execution_count": 63,
   "id": "5865263c",
   "metadata": {},
   "outputs": [],
   "source": [
    "def uniq_arr(nums):\n",
    "    if list(set(nums))==nums:\n",
    "        return False\n",
    "    else:\n",
    "        return True"
   ]
  },
  {
   "cell_type": "code",
   "execution_count": 64,
   "id": "78445e25",
   "metadata": {},
   "outputs": [
    {
     "data": {
      "text/plain": [
       "False"
      ]
     },
     "execution_count": 64,
     "metadata": {},
     "output_type": "execute_result"
    }
   ],
   "source": [
    "uniq_arr(nums)"
   ]
  },
  {
   "cell_type": "markdown",
   "id": "716ae4eb",
   "metadata": {},
   "source": [
    "## 4. product of array except self"
   ]
  },
  {
   "cell_type": "code",
   "execution_count": 77,
   "id": "e4aa3c31",
   "metadata": {},
   "outputs": [],
   "source": [
    "import numpy as np"
   ]
  },
  {
   "cell_type": "code",
   "execution_count": 86,
   "id": "58b1b7d7",
   "metadata": {},
   "outputs": [],
   "source": [
    "nums=[1,2,3,4]\n",
    "#op=[24,12,8,6]"
   ]
  },
  {
   "cell_type": "code",
   "execution_count": 72,
   "id": "2e216118",
   "metadata": {},
   "outputs": [],
   "source": [
    "nums2=nums"
   ]
  },
  {
   "cell_type": "code",
   "execution_count": 73,
   "id": "e90f8b79",
   "metadata": {},
   "outputs": [],
   "source": [
    "del nums2[0]"
   ]
  },
  {
   "cell_type": "code",
   "execution_count": 74,
   "id": "4b8fe554",
   "metadata": {},
   "outputs": [
    {
     "data": {
      "text/plain": [
       "[2, 3, 4]"
      ]
     },
     "execution_count": 74,
     "metadata": {},
     "output_type": "execute_result"
    }
   ],
   "source": [
    "nums2"
   ]
  },
  {
   "cell_type": "code",
   "execution_count": 88,
   "id": "795e4a86",
   "metadata": {},
   "outputs": [],
   "source": [
    "def prod_except_self(nums):    \n",
    "    op=[]\n",
    "    for i in range(len(nums)):\n",
    "        nums2=nums.copy()\n",
    "        del nums2[i]\n",
    "        op.append(np.prod(np.array(nums2)))\n",
    "    \n",
    "    return op"
   ]
  },
  {
   "cell_type": "code",
   "execution_count": 89,
   "id": "09acfeb4",
   "metadata": {},
   "outputs": [
    {
     "data": {
      "text/plain": [
       "[24, 12, 8, 6]"
      ]
     },
     "execution_count": 89,
     "metadata": {},
     "output_type": "execute_result"
    }
   ],
   "source": [
    "prod_except_self(nums)"
   ]
  },
  {
   "cell_type": "markdown",
   "id": "6b5fb9e8",
   "metadata": {},
   "source": [
    "## 5. maximum subarray- amazon coding iv round"
   ]
  },
  {
   "cell_type": "code",
   "execution_count": 94,
   "id": "785a72b5",
   "metadata": {},
   "outputs": [],
   "source": [
    "nums=[-2,1,-3,4,-1,2,1,-5,4]"
   ]
  },
  {
   "cell_type": "code",
   "execution_count": 92,
   "id": "a5eaca12",
   "metadata": {},
   "outputs": [],
   "source": [
    "op=6"
   ]
  },
  {
   "cell_type": "code",
   "execution_count": 98,
   "id": "f6a540c8",
   "metadata": {},
   "outputs": [],
   "source": [
    "def maxsubarraysum(nums):\n",
    "    maxsum=nums[0]+nums[1]\n",
    "    for i in range(len(nums)-1):\n",
    "        for j in range(i+1,len(nums)):\n",
    "            sub_arr=nums[i:j+1]\n",
    "            curr_sum=np.sum(sub_arr)\n",
    "            maxsum=max(maxsum,curr_sum)\n",
    "    return maxsum"
   ]
  },
  {
   "cell_type": "code",
   "execution_count": 97,
   "id": "7d3ab28f",
   "metadata": {},
   "outputs": [
    {
     "data": {
      "text/plain": [
       "-1"
      ]
     },
     "execution_count": 97,
     "metadata": {},
     "output_type": "execute_result"
    }
   ],
   "source": [
    "np.sum(nums[:2])"
   ]
  },
  {
   "cell_type": "code",
   "execution_count": 99,
   "id": "f3a090e1",
   "metadata": {},
   "outputs": [
    {
     "data": {
      "text/plain": [
       "6"
      ]
     },
     "execution_count": 99,
     "metadata": {},
     "output_type": "execute_result"
    }
   ],
   "source": [
    "maxsubarraysum(nums)"
   ]
  },
  {
   "cell_type": "code",
   "execution_count": null,
   "id": "55133553",
   "metadata": {},
   "outputs": [],
   "source": []
  }
 ],
 "metadata": {
  "kernelspec": {
   "display_name": "Python 3",
   "language": "python",
   "name": "python3"
  },
  "language_info": {
   "codemirror_mode": {
    "name": "ipython",
    "version": 3
   },
   "file_extension": ".py",
   "mimetype": "text/x-python",
   "name": "python",
   "nbconvert_exporter": "python",
   "pygments_lexer": "ipython3",
   "version": "3.8.8"
  }
 },
 "nbformat": 4,
 "nbformat_minor": 5
}
